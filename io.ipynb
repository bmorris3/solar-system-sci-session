{
 "cells": [
  {
   "cell_type": "markdown",
   "id": "e08314f5-eecc-48c9-98fa-b0a69ec30754",
   "metadata": {},
   "source": [
    "# Visualize and interact with JWST observations with Jupyter\n",
    "\n",
    "\n",
    "### Objectives \n",
    "\n",
    "In this tutorial, we will: \n",
    "* use `astroquery` to download JWST observations from MAST\n",
    "* learn about spectral cubes from MIRI MRS\n",
    "* visualize and interact with spectral cubes with [Cubeviz](https://jdaviz.readthedocs.io/en/latest/cubeviz/index.html) and images with [Imviz](https://jdaviz.readthedocs.io/en/latest/imviz/index.html) from [jdaviz](https://jdaviz.readthedocs.io/en/latest/index.html)\n",
    "* fit physical models to spectral observations\n",
    "* create false-color images from spectra\n",
    "\n",
    "### Setup\n",
    "\n",
    "You should be up and running if you run the following in a command line:\n",
    "```bash\n",
    "python -m pip install jdaviz jupyterlab\n",
    "```\n",
    "\n",
    "\n",
    "### Data\n",
    "\n",
    "We will use observations of Io collected with [MIRI MRS](https://jwst-docs.stsci.edu/jwst-mid-infrared-instrument/miri-observing-modes/miri-medium-resolution-spectroscopy) (Ch1) on December 17, 2022, from [Program 1373 (PI: Imke de Pater)](https://www.stsci.edu/jwst/science-execution/approved-programs/dd-ers/program-1373). Io would have appeard to JWST like this: \n",
    "\n",
    "<img style=\"margin:auto\" width=\"50%\" src=\"figures/io_map_labeled.png\">\n",
    "\n",
    "The subsolar point is marked with $\\odot$ and the sub-Jovian point is marked with ♃. Only a tiny fraction of the night side is visible and is represented with the gray shaded region on the left limb. "
   ]
  },
  {
   "cell_type": "code",
   "execution_count": null,
   "id": "fa2277ab-ca87-4b7f-ab53-4391c27917fb",
   "metadata": {},
   "outputs": [],
   "source": [
    "%matplotlib inline\n",
    "import os\n",
    "import tempfile\n",
    "import logging\n",
    "import numpy as np\n",
    "import matplotlib.pyplot as plt\n",
    "from matplotlib.colors import to_hex\n",
    "\n",
    "import astropy.units as u\n",
    "from astropy.constants import c\n",
    "from astropy.coordinates import SkyCoord, get_body\n",
    "from astropy.io import fits\n",
    "from astropy.table import QTable\n",
    "from astropy.time import Time\n",
    "from astropy.table import Table\n",
    "from astropy.nddata import NDDataArray, bitfield_to_boolean_mask\n",
    "from astropy.visualization import quantity_support\n",
    "from astropy.wcs import WCS\n",
    "from astropy.utils.masked import Masked\n",
    "\n",
    "from astroquery import log\n",
    "log.setLevel(logging.ERROR)\n",
    "\n",
    "from astroquery.jplhorizons import Horizons\n",
    "from astroquery.mast import Observations\n",
    "\n",
    "from regions import PixCoord, CirclePixelRegion\n",
    "from specutils import Spectrum1D\n",
    "\n",
    "from jdaviz import Cubeviz, Imviz, Specviz\n",
    "from glue.core.roi import XRangeROI\n",
    "\n",
    "# suppress unrelated `stpipe` logger:\n",
    "root_logger = logging.getLogger()\n",
    "if len(root_logger.handlers):\n",
    "    root_logger.removeHandler(root_logger.handlers[0])"
   ]
  },
  {
   "cell_type": "code",
   "execution_count": null,
   "id": "2c7036a5-f702-4133-be6a-1e9930c8e0a5",
   "metadata": {},
   "outputs": [],
   "source": [
    "# JWST/MIRI observations of Io are available on MAST:\n",
    "uri = \"mast:JWST/product/jw01373-o031_t007_miri_ch1-shortmediumlong_s3d.fits\"  \n",
    "\n",
    "# Download the MIRI observations to a local temporary directory\n",
    "data_dir = tempfile.gettempdir()\n",
    "local_path = os.path.join(data_dir, os.path.basename(uri))\n",
    "result = Observations.download_file(uri, local_path=local_path)"
   ]
  },
  {
   "cell_type": "markdown",
   "id": "9410a913-3156-4853-9b6d-a8e4448db671",
   "metadata": {},
   "source": [
    "Load the spectral cube into Cubeviz:"
   ]
  },
  {
   "cell_type": "code",
   "execution_count": null,
   "id": "19177ae8-0a37-417a-8eb1-426cee4ff24b",
   "metadata": {},
   "outputs": [],
   "source": [
    "cubeviz = Cubeviz()\n",
    "cubeviz.load_data(local_path)\n",
    "cubeviz.show()"
   ]
  },
  {
   "cell_type": "markdown",
   "id": "b6962309-31da-4a2f-8e84-0db4e3315933",
   "metadata": {},
   "source": [
    "The bright hotspot near the right limb is the Kanehekili Fluctus, a hot active lava flow which outshines the quiescent surface in infrared observations.\n",
    "\n",
    "**Goal**: let's assume there are three main features in the observed spectrum: (1) thermal emission from the surface (~120 K), (2) thermal emission from volcanic activity on the visible hemisphere (~a few hundred K), and (3) reflected sunlight. How would we model that?\n",
    "\n",
    "We can use the [Model Fitting plugin](https://jdaviz.readthedocs.io/en/latest/specviz/plugins.html#model-fitting) within jdaviz to accomplish that, after we specify the properties of the surface areas we'd like to model. Let's write out the physical characteristics:"
   ]
  },
  {
   "cell_type": "code",
   "execution_count": null,
   "id": "2f7c4232-0870-4965-94cb-24261b8f3de7",
   "metadata": {},
   "outputs": [],
   "source": [
    "radius_io = 1821.6 * u.km\n",
    "radius_magma = 10 * u.km\n",
    "\n",
    "T_sun = 5777\n",
    "io_magma_temperature = 450\n",
    "A_g = 0.6"
   ]
  },
  {
   "cell_type": "markdown",
   "id": "c2fa7255-d085-488d-82e6-5b5b58f42595",
   "metadata": {},
   "source": [
    "In order to estimate the equilibrium temperature of Io, we need Io's distance from the Sun. Further, we will fit the observed flux density at JWST, which is a known distance away from Io – how do we measure that? Fortunately, [astropy.coordinates.get_body](https://docs.astropy.org/en/stable/api/astropy.coordinates.get_body.html) makes that easy! Let's get the distance from Jupiter (Io) to the Sun/Earth, and use these quantities to compute the equilibrium temperature:"
   ]
  },
  {
   "cell_type": "code",
   "execution_count": null,
   "id": "aeea740e-8250-4150-b0b4-b24eab77afa1",
   "metadata": {
    "tags": []
   },
   "outputs": [],
   "source": [
    "time = Time(data.meta[\"MJD-BEG\"], format='mjd', scale='utc')\n",
    "sun, earth, io = [get_body(body, time) for body in ['sun', 'earth', 'jupiter']]\n",
    "\n",
    "distance_io_sun = io.separation_3d(sun)\n",
    "distance_io_earth = io.separation_3d(earth)\n",
    "\n",
    "rstar_over_a = float(1*u.R_sun / distance_io_sun)\n",
    "io_equilibrium_temperature = T_sun * np.sqrt(rstar_over_a / 2)\n",
    "\n",
    "temperatures = [\n",
    "    io_equilibrium_temperature,\n",
    "    io_magma_temperature, \n",
    "    T_sun\n",
    "]"
   ]
  },
  {
   "cell_type": "markdown",
   "id": "f0aa6409-a21f-4f5e-be8d-50f2c01fd89b",
   "metadata": {},
   "source": [
    "Next we'll normalize the `scale` parameter of the [BlackBody model](https://jdaviz.readthedocs.io/en/v3.3.0/api/jdaviz.models.physical_models.BlackBody.html) to account for the size of the source and distance of the observer:"
   ]
  },
  {
   "cell_type": "code",
   "execution_count": null,
   "id": "d3987a4a-1c35-4a9d-82c3-975c8561d106",
   "metadata": {},
   "outputs": [],
   "source": [
    "# These expected scaling factors were assembled from educated guesses:\n",
    "filter_throughput = 0.15\n",
    "scale_apply_to_all = (u.erg/(u.s * u.cm**2 * u.Hz * u.sr)).to(u.MJy/u.sr) * filter_throughput / (4*np.pi)**2\n",
    "expected_scales = u.Quantity([\n",
    "    float(radius_io / distance_io_earth)**2, \n",
    "    float(radius_magma / 2 / distance_io_earth)**2, \n",
    "    A_g * float(1 * u.R_sun / distance_io_sun)**2 * float(radius_io / 2 / distance_io_earth)**2\n",
    "]) * scale_apply_to_all\n",
    "\n",
    "\n",
    "fit_params = Table(dict(temperature=temperatures, scale=expected_scales))"
   ]
  },
  {
   "cell_type": "markdown",
   "id": "2a6484d9-f8c3-4bad-b869-92f71a43cfd5",
   "metadata": {},
   "source": [
    "The next cell uses the User API for the Model Fitting plugin to configure and execute a fit to the sum of the spectral cube in both spatial dimensions:"
   ]
  },
  {
   "cell_type": "code",
   "execution_count": null,
   "id": "e2fcb396-3561-4e46-8b20-36794105e3ca",
   "metadata": {},
   "outputs": [],
   "source": [
    "modelfit_plugin = cubeviz.plugins['Model Fitting']\n",
    "\n",
    "n_components = 3\n",
    "component_models = n_components * ['BlackBody']\n",
    "component_labels = [f'BB{i}' for i in range(n_components)]\n",
    "fixed_parameters = ['temperature']\n",
    "\n",
    "for model, label, params in zip(component_models, component_labels, fit_params):\n",
    "    if label not in modelfit_plugin.model_components:\n",
    "        modelfit_plugin.create_model_component(model, label)\n",
    "    \n",
    "    for parameter in params.colnames:\n",
    "        modelfit_plugin.set_model_component(\n",
    "            label, \n",
    "            parameter, \n",
    "            value=params[parameter], \n",
    "            fixed=parameter in fixed_parameters\n",
    "        )\n",
    "\n",
    "result, spectrum = modelfit_plugin.calculate_fit()"
   ]
  },
  {
   "cell_type": "markdown",
   "id": "5608bbea-e97a-48aa-b925-f7f0338f46f8",
   "metadata": {},
   "source": [
    "The best-fit composite spectrum is shown in Cubeviz above. We can also visualize it with matplotlib below:"
   ]
  },
  {
   "cell_type": "code",
   "execution_count": null,
   "id": "6e1d2eb2-cd04-46b2-8c5b-d1680593d4f0",
   "metadata": {
    "tags": []
   },
   "outputs": [],
   "source": [
    "extracted_spectrum = cubeviz.specviz.get_data(\n",
    "    cubeviz.app.data_collection[0].label, cls=Spectrum1D\n",
    ")\n",
    "\n",
    "fig, ax = plt.subplots(figsize=(8, 4.5))\n",
    "with quantity_support():\n",
    "    ax.semilogy(\n",
    "        extracted_spectrum.wavelength.to(u.um), \n",
    "        result(extracted_spectrum.wavelength), color='r',\n",
    "        label='Composite Model', lw=2\n",
    "    )\n",
    "    ax.semilogy(\n",
    "        extracted_spectrum.wavelength, \n",
    "        extracted_spectrum.flux, '.',\n",
    "        ms=0.4, color='k', label='JWST/MIRI'\n",
    "    )\n",
    "    \n",
    "    for i, label in enumerate(['Surface', 'Magma', 'Reflection']):\n",
    "        temperature_label = result[i].temperature.value * result[i].temperature.unit\n",
    "        ax.semilogy(\n",
    "            extracted_spectrum.wavelength, \n",
    "            result[i](extracted_spectrum.wavelength), \n",
    "                     color=f'C{i}', ls='--', alpha=0.8, \n",
    "            label=f'{label} ({temperature_label:.0f})'\n",
    "        )\n",
    "    ax.set_ylim([3e6, 3e7])\n",
    "\n",
    "ax.legend(loc='lower left', fontsize=8)\n",
    "\n",
    "for sp in ['right', 'top']:\n",
    "    ax.spines[sp].set_visible(False)\n",
    "    \n",
    "ax.set(\n",
    "    xlabel=f'Wavelength [{extracted_spectrum.wavelength.unit}]',\n",
    "    ylabel=f'Flux Density [{extracted_spectrum.flux.unit}]'\n",
    ")\n",
    "plt.show()"
   ]
  },
  {
   "cell_type": "markdown",
   "id": "475222ad-3e39-4ecc-9253-1326a5a99925",
   "metadata": {},
   "source": [
    "Neat, there are several significant components of infrared emission and reflection from Io. In the exercise above, we took the sum of the flux in the spatial dimensions at each wavelength.\n",
    "\n",
    "**Goal**: Can we look for spatial variations in the relative importance of each emission and reflection?\n",
    "\n",
    "In the cells below, we'll create a color composite image with Imviz. First, we'll set a colormap and choose colors for each layer in the composite image to come:"
   ]
  },
  {
   "cell_type": "code",
   "execution_count": null,
   "id": "d43c5aa5-f7af-4744-8f4f-84499969964b",
   "metadata": {},
   "outputs": [],
   "source": [
    "# number of spectral subsets to assign to colors:\n",
    "n_subsets = 5\n",
    "\n",
    "# colormap to adopt:\n",
    "cmap = plt.cm.rainbow\n",
    "\n",
    "# get hex colors for each subset\n",
    "hex_colors = [\n",
    "    to_hex(c) for c in \n",
    "    cmap(np.linspace(0, 1, n_subsets))\n",
    "]"
   ]
  },
  {
   "cell_type": "markdown",
   "id": "8329e891-d563-4975-9f55-cf966fdf05e8",
   "metadata": {},
   "source": [
    "Now we'll use the API to create \"subsets\" for $N$ wavelength ranges from the shortest to longest wavelengths in the observation:"
   ]
  },
  {
   "cell_type": "code",
   "execution_count": null,
   "id": "2dc0d625-53ee-483e-a239-a0978f8126c1",
   "metadata": {},
   "outputs": [],
   "source": [
    "data_label = cubeviz.app.data_collection[0].label\n",
    "data = cubeviz.app.data_collection[data_label]\n",
    "wavelength = data.get_object().wavelength\n",
    "\n",
    "# Divide the spectrum into a number of subsets:\n",
    "subset_edges = np.linspace(wavelength.min(), wavelength.max(), n_subsets + 1)\n",
    "subset_labels = [f\"Subset {i}\" for i in range(1, n_subsets + 1)]\n",
    "subset_bounds = [subset_edges[i:i+2].to(u.um).value for i in range(n_subsets)]\n",
    "\n",
    "spectrum_viewer = cubeviz.app.get_viewer('spectrum-viewer')\n",
    "\n",
    "bandpasses = []\n",
    "for subset_label, limits in zip(subset_labels, subset_bounds):\n",
    "    cubeviz.app.session.edit_subset_mode.edit_subset = None\n",
    "    spectrum_viewer.apply_roi(XRangeROI(*limits))\n",
    "    bandpasses.append(\n",
    "        data.get_subset_object(subset_label, cls=NDDataArray)\n",
    "    )"
   ]
  },
  {
   "cell_type": "markdown",
   "id": "3c759807-6202-42cc-a290-12bd49380014",
   "metadata": {},
   "source": [
    "Later it will be useful to have sky coordinates for each pixel in the image, which are stored in the FITS [WCS](https://docs.astropy.org/en/stable/wcs/index.html). Here we get the \"celestial\" (a.k.a. \"spatial\" or \"non-spectral\") component of the WCS:"
   ]
  },
  {
   "cell_type": "code",
   "execution_count": null,
   "id": "3b47c5dc-9d76-4af9-b994-04b654220ee0",
   "metadata": {},
   "outputs": [],
   "source": [
    "wcs = WCS(fits.getheader(local_path, ext=1))\n",
    "wcs_celestial = wcs.celestial"
   ]
  },
  {
   "cell_type": "markdown",
   "id": "c56a7cc8-de14-40d3-89cb-d77c0f8f6293",
   "metadata": {},
   "source": [
    "Now let's collapse each masked spectral cube along the spectral axis to produce a 2D image as an `NDDataArray` with the celestial coordinates:"
   ]
  },
  {
   "cell_type": "code",
   "execution_count": null,
   "id": "0f2893a3-99b5-46e5-a0fb-0b240f136340",
   "metadata": {},
   "outputs": [],
   "source": [
    "def collapse(band, force_wcs=wcs_celestial.swapaxes(1, 0)):\n",
    "    # make a masked quantity array to collapse\n",
    "    masked_quantity = Masked(band.data << band.unit, mask=band.mask)\n",
    "    \n",
    "    # collapse in the spectral dimension\n",
    "    dispersion_axis = data.meta['DISPAXIS']\n",
    "    collapsed_image = np.ma.sum(masked_quantity, axis=dispersion_axis)\n",
    "    \n",
    "    # force the celestial coordinates onto the collapsed NDDataArray:\n",
    "    nddata = NDDataArray(\n",
    "        collapsed_image.T, wcs=force_wcs\n",
    "    )\n",
    "    return nddata\n",
    "\n",
    "collapsed_images = [collapse(band) for band in bandpasses]"
   ]
  },
  {
   "cell_type": "markdown",
   "id": "9bf03fdc-e66a-40cc-af60-ebcfb60e8fd6",
   "metadata": {},
   "source": [
    "Choose Imviz settings to produce a neat RGB image:"
   ]
  },
  {
   "cell_type": "code",
   "execution_count": null,
   "id": "319f6d36-3f19-442d-b05d-e3fd380538c1",
   "metadata": {},
   "outputs": [],
   "source": [
    "defaults = dict(\n",
    "    stretch_vmin=0, \n",
    "    stretch_vmax=float(np.nanmax(collapsed_images[-1])) / 1.5, \n",
    "    image_opacity=2/n_subsets, \n",
    "    stretch_function='arcsinh'\n",
    ")\n",
    "\n",
    "img_settings = {\n",
    "    subset_label: dict(image_color=color, **defaults)\n",
    "    for subset_label, color in zip(subset_labels, hex_colors)\n",
    "}"
   ]
  },
  {
   "cell_type": "markdown",
   "id": "19a33d25-70b8-4698-a72a-e35a5af87984",
   "metadata": {},
   "source": [
    "Initialize `Imviz`, load one monochromatic image per color channel, choose settings:"
   ]
  },
  {
   "cell_type": "code",
   "execution_count": null,
   "id": "b7d162ee-5085-4a39-9681-bb4be8d33907",
   "metadata": {},
   "outputs": [],
   "source": [
    "imviz = Imviz()\n",
    "for image, label in zip(collapsed_images, subset_labels):\n",
    "    imviz.load_data(image, data_label=label)\n",
    "    \n",
    "# Link images by WCS (without affine approximation)\n",
    "imviz.plugins['Links Control'].link_type = 'WCS'\n",
    "imviz.plugins['Links Control'].wcs_use_affine = False\n",
    "\n",
    "p = imviz.plugins['Plot Options']\n",
    "p.image_color_mode = 'Monochromatic'\n",
    "\n",
    "for label, settings in img_settings.items():\n",
    "    p.layer = f\"{label}[DATA]\"\n",
    "    for k,v in settings.items():\n",
    "        setattr(p, k, v)\n",
    "\n",
    "    # The Imviz NDDataArray parser will load masks as separate\n",
    "    # entries in the data collection. Remove those data items:\n",
    "    mask_label = f\"{label}[MASK]\"\n",
    "    imviz.app.remove_data_from_viewer('imviz-0', mask_label)\n",
    "\n",
    "imviz.show()"
   ]
  },
  {
   "cell_type": "markdown",
   "id": "c335228b-6ee9-4c1d-b5d0-4d9057111732",
   "metadata": {},
   "source": [
    "The color and intensity variations in the image correspond to surface variations in both albedo and temperature – bluer colors correspond to more reflected sunlight, and redder regions are dominated by thermal emission.\n",
    "\n",
    "**Goal**: can we verify that this observation was taken of Io, and not some other astronomical source?\n",
    "\n",
    "We can use `astroquery` to look up the apparent position of Io viewed from JWST throughout the time of observations, via [JPL Horizons](https://ssd.jpl.nasa.gov/horizons/app.html#/). Add markers spaced by one minute intervals:"
   ]
  },
  {
   "cell_type": "code",
   "execution_count": null,
   "id": "dceb6808-280d-4639-9d10-7459b9d57f86",
   "metadata": {},
   "outputs": [],
   "source": [
    "# observing beginning/end times are in the FITS header:\n",
    "obs_beg = Time(data.meta[\"MJD-BEG\"], format='mjd', scale='utc')\n",
    "obs_end = Time(data.meta[\"MJD-END\"], format='mjd', scale='utc')\n",
    "\n",
    "# set up a Horizons query\n",
    "io_jwst = Horizons(\n",
    "    # Jupiter's moon Io:\n",
    "    id=\"501\",\n",
    "    # JWST's coordinates (in flight):\n",
    "    location=\"500@-170\",\n",
    "    # return ephemeris at 1 min intervals during obs:\n",
    "    epochs=dict(\n",
    "        start=obs_beg.utc.iso,\n",
    "        stop=obs_end.utc.iso,\n",
    "        step='1m'\n",
    "    )\n",
    ")\n",
    "ephemeris = io_jwst.ephemerides(extra_precision=True)\n",
    "ra, dec = QTable(ephemeris[['RA', 'DEC']]).itercols()\n",
    "io_coord = SkyCoord(ra, dec)\n",
    "\n",
    "image_viewer = imviz.app.get_viewer('imviz-0')\n",
    "coord_table = QTable(dict(coord=io_coord))\n",
    "image_viewer.marker = {'color': 'red', 'alpha': 1, 'markersize': 500, 'fill': True}\n",
    "image_viewer.add_markers(table=coord_table, use_skycoord=True, marker_name='Io centroid')"
   ]
  },
  {
   "cell_type": "markdown",
   "id": "4253a41e-832c-4490-b32d-5eccae0e33c9",
   "metadata": {},
   "source": [
    "Now we'll start a new Cubeviz instance. After it loads, use the subset selector tool to draw a circle over Io (draw it a bit bigger than you think it needs to be!):"
   ]
  },
  {
   "cell_type": "code",
   "execution_count": null,
   "id": "43a7774d-c413-43bb-b539-db81f90b4a05",
   "metadata": {
    "tags": []
   },
   "outputs": [],
   "source": [
    "cubeviz = Cubeviz()\n",
    "cubeviz.load_data(local_path)\n",
    "cubeviz.show()"
   ]
  },
  {
   "cell_type": "markdown",
   "id": "d81c186e-c50e-4e86-8745-4f0447f183f0",
   "metadata": {},
   "source": [
    "The red spectrum shown above is the sum of all pixels within the subset at each wavelength. If you take a subset that's very small, you'll see discontinuities in the spectrum because Cubeviz doesn't currently account for masking during the live spectrum extraction in the red curve. We can do a more careful masking like so:"
   ]
  },
  {
   "cell_type": "code",
   "execution_count": null,
   "id": "4ad36b29-61ae-463f-9fce-67f1af5d7fb7",
   "metadata": {
    "tags": []
   },
   "outputs": [],
   "source": [
    "data = cubeviz.app.data_collection[0]\n",
    "mask_dataset = cubeviz.app.data_collection[2]\n",
    "\n",
    "source_spectrum = data.get_subset_object(\"Subset 1\", cls=NDDataArray)\n",
    "mask_nddata = mask_dataset.get_subset_object(\"Subset 1\", cls=NDDataArray)\n",
    "mask = bitfield_to_boolean_mask(\n",
    "    mask_nddata.data.astype(int)\n",
    ") | mask_nddata.mask | np.isnan(source_spectrum.data)\n",
    "source_spectrum.mask = mask\n",
    "\n",
    "source_spectrum_ma = np.swapaxes(\n",
    "    np.asanyarray(source_spectrum), 1, 0\n",
    ")\n",
    "\n",
    "masked_spec = source_spectrum.data\n",
    "masked_spec[source_spectrum.mask] = np.nan\n",
    "count = np.sum(~np.isnan(masked_spec), axis=(0, 1))\n",
    "\n",
    "masked_spectrum_flux = np.nansum(source_spectrum.data, axis=(0, 1)) * source_spectrum.unit * (count.max() / count)"
   ]
  },
  {
   "cell_type": "markdown",
   "id": "44b1b801-829c-47a5-b190-9549966b097e",
   "metadata": {},
   "source": [
    "Now we'll write a quick function that will be useful for plotting some points later:"
   ]
  },
  {
   "cell_type": "code",
   "execution_count": null,
   "id": "8b6bac89-54f8-4a3b-b20b-daf1bdc2b950",
   "metadata": {
    "tags": []
   },
   "outputs": [],
   "source": [
    "hotspot_pxl_coord = (23.5, 15)\n",
    "reflective_pxl_coord = (21, 17)\n",
    "\n",
    "def plot_reference_locations(axis):\n",
    "    axis.scatter(\n",
    "        *hotspot_pxl_coord, marker='o', color='r', \n",
    "        facecolor='none', s=50, lw=2\n",
    "    )\n",
    "    axis.scatter(\n",
    "        *reflective_pxl_coord, marker='o', color='DodgerBlue', \n",
    "        facecolor='none', s=50, lw=2\n",
    "    )"
   ]
  },
  {
   "cell_type": "markdown",
   "id": "ff86d07e-6594-4d1b-bdb2-85428cbb3b86",
   "metadata": {
    "tags": []
   },
   "source": [
    "We showed above that the flux at long wavelengths is dominated by thermal emission from the cool surface, while at short wavelengths the reflected sunlight dominates. Let's see the spatial images at short and long wavelengths, and compare the distribution of flux in each image:"
   ]
  },
  {
   "cell_type": "code",
   "execution_count": null,
   "id": "a18b1deb-0da0-4fc5-9788-70f82aa41622",
   "metadata": {
    "tags": []
   },
   "outputs": [],
   "source": [
    "fig = plt.figure(figsize=(15, 5))\n",
    "\n",
    "ax = [\n",
    "    fig.add_subplot(121, projection=wcs_celestial),\n",
    "    fig.add_subplot(122, projection=wcs_celestial)\n",
    "]\n",
    "\n",
    "long_wavelengths = 7 * u.um < extracted_spectrum.wavelength\n",
    "short_wavelengths = 5 * u.um > extracted_spectrum.wavelength\n",
    "\n",
    "mean_images = []\n",
    "\n",
    "for i, (condition, cmap) in enumerate(zip(\n",
    "    [short_wavelengths, long_wavelengths],\n",
    "    [plt.cm.Blues, plt.cm.Reds]\n",
    ")):\n",
    "    mean_image = np.mean(source_spectrum_ma[..., condition], axis=-1)\n",
    "    \n",
    "    ax[i].imshow(\n",
    "        mean_image,\n",
    "        cmap=cmap\n",
    "    )\n",
    "    \n",
    "    plot_reference_locations(ax[i])\n",
    "    \n",
    "    mean_images.append(mean_image)\n",
    "    \n",
    "plt.show()"
   ]
  },
  {
   "cell_type": "markdown",
   "id": "50dadcb9-6ee9-4b4c-8359-af89fed03085",
   "metadata": {},
   "source": [
    "The short wavelengths (left) are centered farther to the upper left than the long wavelengths (right). \n",
    "\n",
    "**Goal**: Consider if the long-wavelength thermal emission be weighted towards the planet's limb or in an extended plume?"
   ]
  },
  {
   "cell_type": "code",
   "execution_count": null,
   "id": "acff7ee4-3a55-4da2-9345-505b3710d877",
   "metadata": {
    "tags": []
   },
   "outputs": [],
   "source": [
    "fig = plt.figure(figsize=(7, 6))\n",
    "\n",
    "ax = fig.add_subplot(projection=wcs_celestial)\n",
    "\n",
    "long_wavelengths = 7 * u.um < extracted_spectrum.wavelength\n",
    "short_wavelengths = 5 * u.um > extracted_spectrum.wavelength\n",
    "\n",
    "cmap_limit = 3e5\n",
    "cax = ax.imshow(\n",
    "    mean_images[1] - mean_images[0],\n",
    "    cmap=plt.cm.coolwarm, \n",
    "    vmin=-cmap_limit, \n",
    "    vmax=cmap_limit,\n",
    ")\n",
    "plt.colorbar(cax, label='\"Thermal - Reflected\"')\n",
    "plot_reference_locations(ax)\n",
    "    \n",
    "plt.show()"
   ]
  },
  {
   "cell_type": "markdown",
   "id": "c47e2b97-c65b-4887-aeb2-ced93cdf387e",
   "metadata": {},
   "source": [
    "**Goal**: the flux definitely shifts with wavelength. How exactly does the center-of-light vary with wavelength across the whole spectrum?"
   ]
  },
  {
   "cell_type": "code",
   "execution_count": null,
   "id": "5c7e90ea-be3c-4370-ab17-c4f258b35c90",
   "metadata": {
    "tags": []
   },
   "outputs": [],
   "source": [
    "coords = []\n",
    "\n",
    "for i, wl_slice in enumerate(source_spectrum_ma.transpose(2, 0, 1)):\n",
    "    xbar = np.ma.average(xx, weights=wl_slice)\n",
    "    ybar = np.ma.average(yy, weights=wl_slice)\n",
    "\n",
    "    coords.append([xbar, ybar])\n",
    "    \n",
    "coords = np.transpose(coords)"
   ]
  },
  {
   "cell_type": "code",
   "execution_count": null,
   "id": "d607da5e-1c7d-44f7-ade0-b3130ee6df0e",
   "metadata": {
    "tags": []
   },
   "outputs": [],
   "source": [
    "fig = plt.figure(figsize=(7, 6), dpi=150)\n",
    "\n",
    "ax = fig.add_subplot(projection=wcs_celestial)\n",
    "\n",
    "cmap_limit = 3e5\n",
    "cax1 = ax.imshow(\n",
    "    mean_images[1] - mean_images[0],\n",
    "    cmap=plt.cm.coolwarm, \n",
    "    vmin=-cmap_limit, \n",
    "    vmax=cmap_limit,\n",
    "    alpha=0.3\n",
    ")\n",
    "cax2 = ax.scatter(\n",
    "    coords[0], coords[1], s=30,\n",
    "    c=extracted_spectrum.wavelength.to_value(u.um),\n",
    "    cmap=plt.cm.Spectral_r,\n",
    "    edgecolor='k', lw=0.2\n",
    ")\n",
    "plt.colorbar(cax2, label=r'Wavelength [$\\rm\\mu$m]')\n",
    "plot_reference_locations(ax)\n",
    "ax.set(\n",
    "    xlim=[13, 27],\n",
    "    ylim=[11, 25],\n",
    ")\n",
    "plt.show()"
   ]
  },
  {
   "cell_type": "markdown",
   "id": "0ef09873-d566-4494-9569-67c5b2f374d0",
   "metadata": {},
   "source": [
    "We can examine the spectrum alone with Specviz:"
   ]
  },
  {
   "cell_type": "code",
   "execution_count": null,
   "id": "10ad7e59-c821-49ac-8efe-5701bd740d5e",
   "metadata": {
    "tags": []
   },
   "outputs": [],
   "source": [
    "specviz = Specviz()\n",
    "specviz.load_spectrum(Spectrum1D(flux=masked_spectrum_flux, spectral_axis=extracted_spectrum.wavelength))\n",
    "specviz.show()"
   ]
  },
  {
   "cell_type": "markdown",
   "id": "f48ee509-72d9-4b53-acc8-01d992be9c7b",
   "metadata": {},
   "source": [
    "Let's extract one spectrum per \"spaxel\" (spatial pixel):"
   ]
  },
  {
   "cell_type": "code",
   "execution_count": null,
   "id": "842ab74c-0ef0-4fc9-8b68-75c3448b04e3",
   "metadata": {
    "tags": []
   },
   "outputs": [],
   "source": [
    "extracted_spectrum_per_pixel = np.reshape(\n",
    "    source_spectrum_ma[..., long_wavelengths],\n",
    "    (-1, np.count_nonzero(long_wavelengths))\n",
    ")"
   ]
  },
  {
   "cell_type": "markdown",
   "id": "dbbbb14d-ca85-44c6-bf06-ec5da16bb97d",
   "metadata": {},
   "source": [
    "Let's calculate the distance from each pixel to the hotspot:"
   ]
  },
  {
   "cell_type": "code",
   "execution_count": null,
   "id": "01fbf3fe-8785-4f3c-ba77-60f9dc8f11e6",
   "metadata": {},
   "outputs": [],
   "source": [
    "xx, yy = np.meshgrid(\n",
    "    np.arange(source_spectrum.shape[0]),\n",
    "    np.arange(source_spectrum.shape[1])\n",
    ")\n",
    "distance_from_hotspot = np.ma.masked_array(\n",
    "    np.hypot(xx - hotspot_pxl_coord[0], yy - hotspot_pxl_coord[1]),\n",
    "    mean_images[1].mask\n",
    ")"
   ]
  },
  {
   "cell_type": "code",
   "execution_count": null,
   "id": "ad6a6418-071d-4887-b87f-efb19808e748",
   "metadata": {
    "tags": []
   },
   "outputs": [],
   "source": [
    "n_params = 2\n",
    "betas = np.nan * np.zeros((extracted_spectrum_per_pixel.shape[0], n_params))\n",
    "hotspot_distances = np.ma.masked_array(distance_from_hotspot.ravel())\n",
    "hotspot_distances.mask = np.ones(len(hotspot_distances)).astype(bool)\n",
    "\n",
    "for i, pxl_spectrum in enumerate(extracted_spectrum_per_pixel):\n",
    "    if not np.all(pxl_spectrum.mask):\n",
    "        wavelengths = extracted_spectrum.wavelength[long_wavelengths]\n",
    "        X = np.vander((wavelengths - wavelengths[0]).to_value(u.AA), n_params)\n",
    "        betas[i] = np.linalg.lstsq(X, pxl_spectrum, rcond=-1)[0]\n",
    "        hotspot_distances.mask[i] = False\n",
    "\n",
    "plt.loglog()\n",
    "plt.scatter(betas[:, 1], betas[:, 0], c=hotspot_distances, cmap=plt.cm.plasma_r)\n",
    "plt.colorbar(label='hotspot distance [pix]')\n",
    "plt.gca().set(\n",
    "    xlabel=f'flux at {fit_above_wavelengths} [{extracted_spectrum.flux.unit}]',\n",
    "    ylabel='Spectral slope'\n",
    ")"
   ]
  },
  {
   "cell_type": "code",
   "execution_count": null,
   "id": "aaee7982-8788-4738-afaa-f95c50342749",
   "metadata": {},
   "outputs": [],
   "source": []
  },
  {
   "cell_type": "code",
   "execution_count": null,
   "id": "981662dc-d09d-4e39-829f-ac3e6cdfa245",
   "metadata": {},
   "outputs": [],
   "source": []
  },
  {
   "cell_type": "code",
   "execution_count": null,
   "id": "d9103091-fef6-450c-82b8-172356c47603",
   "metadata": {},
   "outputs": [],
   "source": []
  },
  {
   "cell_type": "code",
   "execution_count": null,
   "id": "05404016-1674-4632-9b34-bc5d50ddd7e0",
   "metadata": {},
   "outputs": [],
   "source": []
  },
  {
   "cell_type": "code",
   "execution_count": null,
   "id": "a7c342ee-a92d-45e3-b494-6e1477ffecb0",
   "metadata": {},
   "outputs": [],
   "source": []
  },
  {
   "cell_type": "code",
   "execution_count": null,
   "id": "7211ac80-75db-48f9-b3c5-4314510ab878",
   "metadata": {},
   "outputs": [],
   "source": []
  },
  {
   "cell_type": "code",
   "execution_count": null,
   "id": "cc6ac52d-8596-4c6a-bfd2-45ce300b0af2",
   "metadata": {},
   "outputs": [],
   "source": []
  },
  {
   "cell_type": "code",
   "execution_count": null,
   "id": "d7d1805e-f3de-4a5f-bf69-dde0752757f1",
   "metadata": {},
   "outputs": [],
   "source": []
  },
  {
   "cell_type": "code",
   "execution_count": null,
   "id": "b0a49f0b-f56c-44f0-a88d-20e0a45db980",
   "metadata": {},
   "outputs": [],
   "source": []
  },
  {
   "cell_type": "code",
   "execution_count": null,
   "id": "43f68f84-3193-48ee-b5b5-a2ef0f45f07a",
   "metadata": {},
   "outputs": [],
   "source": []
  },
  {
   "cell_type": "code",
   "execution_count": null,
   "id": "104e6a3e-54a2-4f4d-83f6-ca9d98f4de50",
   "metadata": {},
   "outputs": [],
   "source": []
  },
  {
   "cell_type": "code",
   "execution_count": null,
   "id": "b87d21ac-ceec-4866-a5de-eef52037d0ec",
   "metadata": {},
   "outputs": [],
   "source": []
  },
  {
   "cell_type": "code",
   "execution_count": null,
   "id": "ef355366-3e0f-4eb4-80c2-1796f4c19f68",
   "metadata": {},
   "outputs": [],
   "source": []
  },
  {
   "cell_type": "code",
   "execution_count": null,
   "id": "c20c189a-70b5-4c41-b5b6-b4893529085d",
   "metadata": {},
   "outputs": [],
   "source": []
  },
  {
   "cell_type": "code",
   "execution_count": null,
   "id": "60683e67-20e5-4730-b9bf-bf41243b02e3",
   "metadata": {},
   "outputs": [],
   "source": []
  },
  {
   "cell_type": "markdown",
   "id": "703b4798-3a0c-4298-923a-af53b2fa9f4c",
   "metadata": {},
   "source": [
    "<img style=\"float: right;\" src=\"https://raw.githubusercontent.com/spacetelescope/notebooks/master/assets/stsci_pri_combo_mark_horizonal_white_bkgd.png\" alt=\"Space Telescope Logo\" width=\"200px\"/>"
   ]
  }
 ],
 "metadata": {
  "kernelspec": {
   "display_name": "Python 3 (ipykernel)",
   "language": "python",
   "name": "python3"
  },
  "language_info": {
   "codemirror_mode": {
    "name": "ipython",
    "version": 3
   },
   "file_extension": ".py",
   "mimetype": "text/x-python",
   "name": "python",
   "nbconvert_exporter": "python",
   "pygments_lexer": "ipython3",
   "version": "3.11.3"
  }
 },
 "nbformat": 4,
 "nbformat_minor": 5
}
